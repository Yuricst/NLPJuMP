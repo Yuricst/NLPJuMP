{
 "cells": [
  {
   "cell_type": "markdown",
   "id": "6705c258",
   "metadata": {},
   "source": [
    "# Debug error\n",
    "\n",
    "2023.03.13"
   ]
  },
  {
   "cell_type": "code",
   "execution_count": 1,
   "id": "75109a37",
   "metadata": {},
   "outputs": [],
   "source": [
    "using JuMP, Ipopt"
   ]
  },
  {
   "cell_type": "code",
   "execution_count": 2,
   "id": "68116748",
   "metadata": {},
   "outputs": [
    {
     "data": {
      "text/plain": [
       "Main.NLPSaUT"
      ]
     },
     "execution_count": 2,
     "metadata": {},
     "output_type": "execute_result"
    }
   ],
   "source": [
    "include(\"../src/NLPSaUT.jl\")"
   ]
  },
  {
   "cell_type": "code",
   "execution_count": 28,
   "id": "4aa6719b",
   "metadata": {},
   "outputs": [
    {
     "data": {
      "text/plain": [
       "fitness (generic function with 1 method)"
      ]
     },
     "execution_count": 28,
     "metadata": {},
     "output_type": "execute_result"
    }
   ],
   "source": [
    "function fitness(x...)\n",
    "    fval = x[1]^2 + x[2]\n",
    "    h = x[1]^3 + x[2] - 1\n",
    "    #g = [1]^2 + x[2]^2 - 1\n",
    "    return vcat(fval,h)[:]\n",
    "end"
   ]
  },
  {
   "cell_type": "code",
   "execution_count": 29,
   "id": "e7670be8",
   "metadata": {},
   "outputs": [
    {
     "data": {
      "text/plain": [
       "2"
      ]
     },
     "execution_count": 29,
     "metadata": {},
     "output_type": "execute_result"
    }
   ],
   "source": [
    "nx = 2\n",
    "nfitness = 2"
   ]
  },
  {
   "cell_type": "code",
   "execution_count": 30,
   "id": "bf5b4221",
   "metadata": {},
   "outputs": [
    {
     "data": {
      "text/plain": [
       "2-element Vector{Main.NLPSaUT.var\"#2#5\"{Int64, Main.NLPSaUT.var\"#f_fitness_i#3\"{typeof(fitness)}}}:\n",
       " #2 (generic function with 1 method)\n",
       " #2 (generic function with 1 method)"
      ]
     },
     "execution_count": 30,
     "metadata": {},
     "output_type": "execute_result"
    }
   ],
   "source": [
    "memoized_fitness = NLPSaUT.memoize_fitness(fitness, nx, nfitness)"
   ]
  },
  {
   "cell_type": "code",
   "execution_count": 31,
   "id": "d760a15e",
   "metadata": {},
   "outputs": [
    {
     "data": {
      "text/plain": [
       "0.21000000000000002"
      ]
     },
     "execution_count": 31,
     "metadata": {},
     "output_type": "execute_result"
    }
   ],
   "source": [
    "memoized_fitness[1]([0.1,0.2]...)"
   ]
  },
  {
   "cell_type": "code",
   "execution_count": 32,
   "id": "6ce95e01",
   "metadata": {},
   "outputs": [
    {
     "data": {
      "text/plain": [
       "2-element Vector{Main.NLPSaUT.var\"#7#15\"{Int64, Main.NLPSaUT.var\"#foo_fwd#13\"{Int64, Main.NLPSaUT.var\"#f_fitness_nosplat#12\"{typeof(fitness)}}}}:\n",
       " #7 (generic function with 1 method)\n",
       " #7 (generic function with 1 method)"
      ]
     },
     "execution_count": 32,
     "metadata": {},
     "output_type": "execute_result"
    }
   ],
   "source": [
    "∇memoized_fitness = NLPSaUT.memoize_fitness_gradient(\n",
    "    fitness, nx, nfitness, 2\n",
    ")"
   ]
  },
  {
   "cell_type": "code",
   "execution_count": 33,
   "id": "602a90f2",
   "metadata": {},
   "outputs": [
    {
     "data": {
      "text/plain": [
       "2-element Vector{VariableRef}:\n",
       " x[1]\n",
       " x[2]"
      ]
     },
     "execution_count": 33,
     "metadata": {},
     "output_type": "execute_result"
    }
   ],
   "source": [
    "model = Model(Ipopt.Optimizer)\n",
    "\n",
    "lx = [-1,-1]\n",
    "ux = [ 1, 1]\n",
    "x0 = [0.2, 0.3]\n",
    "@variable(model, lx[i] <= x[i=eachindex(lx)] <= ux[i], start=x0[i])"
   ]
  },
  {
   "cell_type": "code",
   "execution_count": 34,
   "id": "b5446d91",
   "metadata": {},
   "outputs": [],
   "source": [
    "#register(model, :f, nx, memoized_fitness[1], ∇memoized_fitness[1])\n",
    "#register(model, :f, nx, memoized_fitness[1]; autodiff = true)\n",
    "register(model, :f2, nx, memoized_fitness[1]; autodiff = true)"
   ]
  },
  {
   "cell_type": "code",
   "execution_count": 35,
   "id": "4c6105d2",
   "metadata": {},
   "outputs": [],
   "source": [
    "#@NLobjective(model, Min, f(x[1], x[2]))   # works"
   ]
  },
  {
   "cell_type": "code",
   "execution_count": 36,
   "id": "a1bd5510",
   "metadata": {},
   "outputs": [],
   "source": [
    "@NLobjective(model, Min, f2(x...))   # doesn't work -> now works"
   ]
  },
  {
   "cell_type": "code",
   "execution_count": 37,
   "id": "82ec55d0",
   "metadata": {},
   "outputs": [
    {
     "name": "stdout",
     "output_type": "stream",
     "text": [
      "This is Ipopt version 3.14.4, running with linear solver MUMPS 5.5.1.\n",
      "\n",
      "Number of nonzeros in equality constraint Jacobian...:        0\n",
      "Number of nonzeros in inequality constraint Jacobian.:        0\n",
      "Number of nonzeros in Lagrangian Hessian.............:        0\n",
      "\n",
      "Total number of variables............................:        2\n",
      "                     variables with only lower bounds:        0\n",
      "                variables with lower and upper bounds:        2\n",
      "                     variables with only upper bounds:        0\n",
      "Total number of equality constraints.................:        0\n",
      "Total number of inequality constraints...............:        0\n",
      "        inequality constraints with only lower bounds:        0\n",
      "   inequality constraints with lower and upper bounds:        0\n",
      "        inequality constraints with only upper bounds:        0\n",
      "\n",
      "iter    objective    inf_pr   inf_du lg(mu)  ||d||  lg(rg) alpha_du alpha_pr  ls\n",
      "   0  3.4000000e-01 0.00e+00 1.00e+00   0.0 0.00e+00    -  0.00e+00 0.00e+00   0\n",
      "   1 -6.6770930e-02 0.00e+00 4.53e-01  -0.6 3.68e-01    -  8.66e-01 1.00e+00f  1\n",
      "   2 -9.9029384e-01 0.00e+00 9.85e-02  -1.6 1.52e+00    -  9.98e-01 6.08e-01f  1\n",
      "   3 -9.9927565e-01 0.00e+00 5.42e-03  -2.9 1.66e-02    -  9.95e-01 1.00e+00f  1\n",
      "   4 -9.9999202e-01 0.00e+00 3.24e-06  -5.1 3.06e-03    -  1.00e+00 1.00e+00f  1\n",
      "   5 -1.0000000e+00 0.00e+00 2.61e-08 -11.0 7.99e-06    -  1.00e+00 1.00e+00f  1\n",
      "   6 -1.0000000e+00 0.00e+00 4.63e-11 -11.0 2.95e-09    -  1.00e+00 1.00e+00f  1\n",
      "\n",
      "Number of Iterations....: 6\n",
      "\n",
      "                                   (scaled)                 (unscaled)\n",
      "Objective...............:  -1.0000000099899999e+00   -1.0000000099899999e+00\n",
      "Dual infeasibility......:   4.6305554527675081e-11    4.6305554527675081e-11\n",
      "Constraint violation....:   0.0000000000000000e+00    0.0000000000000000e+00\n",
      "Variable bound violation:   9.9899999383978866e-09    9.9899999383978866e-09\n",
      "Complementarity.........:   1.0000000827233787e-11    1.0000000827233787e-11\n",
      "Overall NLP error.......:   4.6305554527675081e-11    4.6305554527675081e-11\n",
      "\n",
      "\n",
      "Number of objective function evaluations             = 7\n",
      "Number of objective gradient evaluations             = 7\n",
      "Number of equality constraint evaluations            = 0\n",
      "Number of inequality constraint evaluations          = 0\n",
      "Number of equality constraint Jacobian evaluations   = 0\n",
      "Number of inequality constraint Jacobian evaluations = 0\n",
      "Number of Lagrangian Hessian evaluations             = 0\n",
      "Total seconds in IPOPT                               = 0.074\n",
      "\n",
      "EXIT: Optimal Solution Found.\n"
     ]
    }
   ],
   "source": [
    "optimize!(model)"
   ]
  },
  {
   "cell_type": "code",
   "execution_count": null,
   "id": "00b68080",
   "metadata": {},
   "outputs": [],
   "source": []
  },
  {
   "cell_type": "markdown",
   "id": "982b8e63",
   "metadata": {},
   "source": [
    "### Memoization example\n",
    "\n",
    "https://jump.dev/JuMP.jl/stable/tutorials/nonlinear/tips_and_tricks/#User-defined-functions-with-vector-outputs"
   ]
  },
  {
   "cell_type": "code",
   "execution_count": 29,
   "id": "d75516eb",
   "metadata": {},
   "outputs": [
    {
     "data": {
      "text/plain": [
       "foo (generic function with 1 method)"
      ]
     },
     "execution_count": 29,
     "metadata": {},
     "output_type": "execute_result"
    }
   ],
   "source": [
    "function_calls = 0\n",
    "function foo(z...)\n",
    "    x = z[1]\n",
    "    y = z[2]\n",
    "    global function_calls += 1\n",
    "    common_term = x^2 + y^2\n",
    "    term_1 = sqrt(1 + common_term)\n",
    "    term_2 = common_term\n",
    "    return term_1, term_2\n",
    "end"
   ]
  },
  {
   "cell_type": "code",
   "execution_count": 68,
   "id": "32a8bfec",
   "metadata": {},
   "outputs": [
    {
     "data": {
      "text/plain": [
       "2-element Vector{Main.NLPSaUT.var\"#2#5\"{Int64, Main.NLPSaUT.var\"#f_fitness_i#3\"{typeof(foo)}}}:\n",
       " #2 (generic function with 1 method)\n",
       " #2 (generic function with 1 method)"
      ]
     },
     "execution_count": 68,
     "metadata": {},
     "output_type": "execute_result"
    }
   ],
   "source": [
    "memoized_foo = NLPSaUT.memoize_fitness(foo, 2, 2)"
   ]
  },
  {
   "cell_type": "code",
   "execution_count": 69,
   "id": "f137c685",
   "metadata": {},
   "outputs": [
    {
     "name": "stdout",
     "output_type": "stream",
     "text": [
      "function_calls = 1\n"
     ]
    }
   ],
   "source": [
    "function_calls = 0\n",
    "memoized_foo[1](1.0, 1.0)\n",
    "println(\"function_calls = \", function_calls)"
   ]
  },
  {
   "cell_type": "code",
   "execution_count": 70,
   "id": "c5093d02",
   "metadata": {},
   "outputs": [
    {
     "data": {
      "text/plain": [
       "1-dimensional DenseAxisArray{VariableRef,1,...} with index sets:\n",
       "    Dimension 1, [1, 2]\n",
       "And data, a 2-element Vector{VariableRef}:\n",
       " x[1]\n",
       " x[2]"
      ]
     },
     "execution_count": 70,
     "metadata": {},
     "output_type": "execute_result"
    }
   ],
   "source": [
    "model = Model(Ipopt.Optimizer)\n",
    "#set_silent(model)\n",
    "#@variable(model, x[1:2] >= 0, start = 0.1)\n",
    "\n",
    "lx = [-1,-1]\n",
    "ux = [ 1, 1]\n",
    "x0 = [0.2, 0.3]\n",
    "@variable(model, lx[i] <= x[i=keys(lx)] <= ux[i], start=x0[i])"
   ]
  },
  {
   "cell_type": "code",
   "execution_count": 71,
   "id": "daac3a06",
   "metadata": {},
   "outputs": [
    {
     "name": "stdout",
     "output_type": "stream",
     "text": [
      "This is Ipopt version 3.14.4, running with linear solver MUMPS 5.5.1.\n",
      "\n",
      "Number of nonzeros in equality constraint Jacobian...:        0\n",
      "Number of nonzeros in inequality constraint Jacobian.:        2\n",
      "Number of nonzeros in Lagrangian Hessian.............:        0\n",
      "\n",
      "Total number of variables............................:        2\n",
      "                     variables with only lower bounds:        0\n",
      "                variables with lower and upper bounds:        2\n",
      "                     variables with only upper bounds:        0\n",
      "Total number of equality constraints.................:        0\n",
      "Total number of inequality constraints...............:        1\n",
      "        inequality constraints with only lower bounds:        0\n",
      "   inequality constraints with lower and upper bounds:        0\n",
      "        inequality constraints with only upper bounds:        1\n",
      "\n",
      "iter    objective    inf_pr   inf_du lg(mu)  ||d||  lg(rg) alpha_du alpha_pr  ls\n",
      "   0  1.0630146e+00 0.00e+00 2.09e-01   0.0 0.00e+00    -  0.00e+00 0.00e+00   0\n",
      "   1  1.0906152e+00 0.00e+00 1.03e-01  -1.2 6.12e-02    -  9.97e-01 1.00e+00f  1\n",
      "   2  1.2414411e+00 0.00e+00 3.93e-01  -2.3 2.67e-01    -  1.00e+00 1.00e+00f  1\n",
      "   3  1.5869609e+00 0.00e+00 5.30e-01  -3.1 8.27e-01    -  1.00e+00 9.91e-01h  1\n",
      "   4  1.6717224e+00 0.00e+00 4.85e-01  -1.9 4.96e-01    -  1.00e+00 7.74e-01h  1\n",
      "   5  1.7063264e+00 0.00e+00 8.47e-02  -2.8 2.53e-01    -  1.00e+00 1.00e+00h  1\n",
      "   6  1.7315824e+00 0.00e+00 6.17e-02  -3.9 9.57e-02    -  1.00e+00 9.25e-01h  1\n",
      "   7  1.7320148e+00 0.00e+00 1.89e-04  -4.6 3.65e-03    -  1.00e+00 1.00e+00h  1\n",
      "   8  1.7320508e+00 0.00e+00 4.37e-05 -10.8 1.25e-04    -  1.00e+00 9.99e-01h  1\n",
      "   9  1.7320508e+00 3.74e-11 2.12e-08  -8.7 4.65e-08    -  1.00e+00 9.89e-01h  1\n",
      "iter    objective    inf_pr   inf_du lg(mu)  ||d||  lg(rg) alpha_du alpha_pr  ls\n",
      "  10  1.7320508e+00 0.00e+00 3.85e-11 -11.0 1.24e-10    -  9.98e-01 1.00e+00h  1\n",
      "\n",
      "Number of Iterations....: 10\n",
      "\n",
      "                                   (scaled)                 (unscaled)\n",
      "Objective...............:  -1.7320508104193220e+00    1.7320508104193220e+00\n",
      "Dual infeasibility......:   3.8545433058873939e-11    3.8545433058873939e-11\n",
      "Constraint violation....:   0.0000000000000000e+00    0.0000000000000000e+00\n",
      "Variable bound violation:   5.7179601054002660e-09    5.7179601054002660e-09\n",
      "Complementarity.........:   3.6306554133084271e-11    3.6306554133084271e-11\n",
      "Overall NLP error.......:   3.8545433058873939e-11    3.8545433058873939e-11\n",
      "\n",
      "\n",
      "Number of objective function evaluations             = 11\n",
      "Number of objective gradient evaluations             = 11\n",
      "Number of equality constraint evaluations            = 0\n",
      "Number of inequality constraint evaluations          = 11\n",
      "Number of equality constraint Jacobian evaluations   = 0\n",
      "Number of inequality constraint Jacobian evaluations = 11\n",
      "Number of Lagrangian Hessian evaluations             = 0\n",
      "Total seconds in IPOPT                               = 0.109\n",
      "\n",
      "EXIT: Optimal Solution Found.\n",
      "objective_value(model) = 1.732050810419322\n",
      "Memoized approach: function_calls = 22\n"
     ]
    }
   ],
   "source": [
    "register(model, :foo_1, 2, memoized_foo[1]; autodiff = true)\n",
    "register(model, :foo_2, 2, memoized_foo[2]; autodiff = true)\n",
    "@NLobjective(model, Max, foo_1(x[1], x[2]))\n",
    "@NLconstraint(model, foo_2(x[1], x[2]) <= 2)\n",
    "function_calls = 0\n",
    "optimize!(model)\n",
    "@show objective_value(model) \n",
    "println(\"Memoized approach: function_calls = $(function_calls)\")"
   ]
  },
  {
   "cell_type": "code",
   "execution_count": null,
   "id": "39946e2c",
   "metadata": {},
   "outputs": [],
   "source": []
  },
  {
   "cell_type": "code",
   "execution_count": null,
   "id": "24b173d1",
   "metadata": {},
   "outputs": [],
   "source": []
  },
  {
   "cell_type": "code",
   "execution_count": null,
   "id": "3d90ad4a",
   "metadata": {},
   "outputs": [],
   "source": []
  },
  {
   "cell_type": "code",
   "execution_count": null,
   "id": "90f7ee6d",
   "metadata": {},
   "outputs": [],
   "source": []
  },
  {
   "cell_type": "code",
   "execution_count": null,
   "id": "4a05a948",
   "metadata": {},
   "outputs": [],
   "source": []
  },
  {
   "cell_type": "code",
   "execution_count": null,
   "id": "6b57bc4e",
   "metadata": {},
   "outputs": [],
   "source": []
  }
 ],
 "metadata": {
  "kernelspec": {
   "display_name": "Julia 1.8.5",
   "language": "julia",
   "name": "julia-1.8"
  },
  "language_info": {
   "file_extension": ".jl",
   "mimetype": "application/julia",
   "name": "julia",
   "version": "1.8.5"
  }
 },
 "nbformat": 4,
 "nbformat_minor": 5
}
