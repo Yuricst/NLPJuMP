{
 "cells": [
  {
   "cell_type": "markdown",
   "id": "0dd8bf3b",
   "metadata": {},
   "source": [
    "# Tutorial with user-defined expression \n",
    "\n",
    "https://jump.dev/JuMP.jl/stable/tutorials/nonlinear/tips_and_tricks/#User-defined-functions-with-vector-outputs"
   ]
  },
  {
   "cell_type": "code",
   "execution_count": 1,
   "id": "cabb301c",
   "metadata": {},
   "outputs": [],
   "source": [
    "using JuMP, Ipopt"
   ]
  },
  {
   "cell_type": "code",
   "execution_count": 2,
   "id": "badd6518",
   "metadata": {},
   "outputs": [
    {
     "data": {
      "text/plain": [
       "Main.NLPSaUT"
      ]
     },
     "execution_count": 2,
     "metadata": {},
     "output_type": "execute_result"
    }
   ],
   "source": [
    "include(\"../src/NLPSaUT.jl\")"
   ]
  },
  {
   "cell_type": "code",
   "execution_count": 3,
   "id": "ebd561c2",
   "metadata": {},
   "outputs": [
    {
     "data": {
      "text/plain": [
       "foo (generic function with 1 method)"
      ]
     },
     "execution_count": 3,
     "metadata": {},
     "output_type": "execute_result"
    }
   ],
   "source": [
    "function_calls = 0\n",
    "function foo(z...)\n",
    "    x = z[1]\n",
    "    y = z[2]\n",
    "    global function_calls += 1\n",
    "    common_term = x^2 + y^2\n",
    "    term_1 = sqrt(1 + common_term)\n",
    "    term_2 = common_term\n",
    "    return term_1, term_2\n",
    "end"
   ]
  },
  {
   "cell_type": "code",
   "execution_count": 4,
   "id": "2cc8f84e",
   "metadata": {},
   "outputs": [
    {
     "data": {
      "text/plain": [
       "memoize"
      ]
     },
     "execution_count": 4,
     "metadata": {},
     "output_type": "execute_result"
    }
   ],
   "source": [
    "\"\"\"\n",
    "    memoize(foo::Function, n_outputs::Int)\n",
    "\n",
    "Take a function `foo` and return a vector of length `n_outputs`, where element\n",
    "`i` is a function that returns the equivalent of `foo(x...)[i]`.\n",
    "\n",
    "To avoid duplication of work, cache the most-recent evaluations of `foo`.\n",
    "Because `foo_i` is auto-differentiated with ForwardDiff, our cache needs to\n",
    "work when `x` is a `Float64` and a `ForwardDiff.Dual`.\n",
    "\"\"\"\n",
    "function memoize(foo::Function, n_outputs::Int)\n",
    "    last_x, last_f = nothing, nothing\n",
    "    last_dx, last_dfdx = nothing, nothing\n",
    "    function foo_i(i, x::T...) where {T<:Real}\n",
    "        if T == Float64\n",
    "            if x != last_x\n",
    "                last_x, last_f = x, foo(x...)\n",
    "            end\n",
    "            return last_f[i]::T\n",
    "        else\n",
    "            if x != last_dx\n",
    "                last_dx, last_dfdx = x, foo(x...)\n",
    "            end\n",
    "            return last_dfdx[i]::T\n",
    "        end\n",
    "    end\n",
    "    return [(x...) -> foo_i(i, x...) for i in 1:n_outputs]\n",
    "end"
   ]
  },
  {
   "cell_type": "code",
   "execution_count": 5,
   "id": "e34b6cd8",
   "metadata": {},
   "outputs": [
    {
     "data": {
      "text/plain": [
       "2-element Vector{var\"#2#5\"{Int64, var\"#foo_i#3\"{typeof(foo)}}}:\n",
       " #2 (generic function with 1 method)\n",
       " #2 (generic function with 1 method)"
      ]
     },
     "execution_count": 5,
     "metadata": {},
     "output_type": "execute_result"
    }
   ],
   "source": [
    "memoized_foo = memoize(foo, 2)"
   ]
  },
  {
   "cell_type": "code",
   "execution_count": 6,
   "id": "b587b2dd",
   "metadata": {},
   "outputs": [
    {
     "data": {
      "text/plain": [
       "1.02469507659596"
      ]
     },
     "execution_count": 6,
     "metadata": {},
     "output_type": "execute_result"
    }
   ],
   "source": [
    "memoized_foo[1]([0.1,0.2]...)"
   ]
  },
  {
   "cell_type": "code",
   "execution_count": 16,
   "id": "67ad6fe8",
   "metadata": {},
   "outputs": [
    {
     "data": {
      "text/plain": [
       "2-element Vector{VariableRef}:\n",
       " x[1]\n",
       " x[2]"
      ]
     },
     "execution_count": 16,
     "metadata": {},
     "output_type": "execute_result"
    }
   ],
   "source": [
    "model = Model(Ipopt.Optimizer)\n",
    "#set_silent(model)\n",
    "#@variable(model, x[1:2] >= 0, start = 0.1)\n",
    "\n",
    "lx = [-1,-1]\n",
    "ux = [ 1, 1]\n",
    "x0 = [0.2, 0.3]\n",
    "#@variable(model, lx[i] <= x[i=keys(lx)] <= ux[i], start=x0[i])\n",
    "@variable(model, lx[i] <= x[i=eachindex(lx)] <= ux[i], start=x0[i])"
   ]
  },
  {
   "cell_type": "code",
   "execution_count": 17,
   "id": "10e09c05",
   "metadata": {},
   "outputs": [],
   "source": [
    "register(model, :foo_1, 2, memoized_foo[1]; autodiff = true)\n",
    "register(model, :foo_2, 2, memoized_foo[2]; autodiff = true)"
   ]
  },
  {
   "cell_type": "code",
   "execution_count": 18,
   "id": "90b07668",
   "metadata": {},
   "outputs": [],
   "source": [
    "@NLobjective(model, Max, foo_1(x[1], x[2]))\n",
    "#@NLobjective(model, Max, foo_1(x...))"
   ]
  },
  {
   "cell_type": "code",
   "execution_count": 19,
   "id": "8b1a95e5",
   "metadata": {},
   "outputs": [
    {
     "name": "stdout",
     "output_type": "stream",
     "text": [
      "This is Ipopt version 3.14.4, running with linear solver MUMPS 5.5.1.\n",
      "\n",
      "Number of nonzeros in equality constraint Jacobian...:        0\n",
      "Number of nonzeros in inequality constraint Jacobian.:        2\n",
      "Number of nonzeros in Lagrangian Hessian.............:        0\n",
      "\n",
      "Total number of variables............................:        2\n",
      "                     variables with only lower bounds:        0\n",
      "                variables with lower and upper bounds:        2\n",
      "                     variables with only upper bounds:        0\n",
      "Total number of equality constraints.................:        0\n",
      "Total number of inequality constraints...............:        1\n",
      "        inequality constraints with only lower bounds:        0\n",
      "   inequality constraints with lower and upper bounds:        0\n",
      "        inequality constraints with only upper bounds:        1\n",
      "\n",
      "iter    objective    inf_pr   inf_du lg(mu)  ||d||  lg(rg) alpha_du alpha_pr  ls\n",
      "   0  1.0630146e+00 0.00e+00 2.09e-01   0.0 0.00e+00    -  0.00e+00 0.00e+00   0\n",
      "   1  1.0906152e+00 0.00e+00 1.03e-01  -1.2 6.12e-02    -  9.97e-01 1.00e+00f  1\n",
      "   2  1.2414411e+00 0.00e+00 3.93e-01  -2.3 2.67e-01    -  1.00e+00 1.00e+00f  1\n",
      "   3  1.5869609e+00 0.00e+00 5.30e-01  -3.1 8.27e-01    -  1.00e+00 9.91e-01h  1\n",
      "   4  1.6717224e+00 0.00e+00 4.85e-01  -1.9 4.96e-01    -  1.00e+00 7.74e-01h  1\n",
      "   5  1.7063264e+00 0.00e+00 8.47e-02  -2.8 2.53e-01    -  1.00e+00 1.00e+00h  1\n",
      "   6  1.7315824e+00 0.00e+00 6.17e-02  -3.9 9.57e-02    -  1.00e+00 9.25e-01h  1\n",
      "   7  1.7320148e+00 0.00e+00 1.89e-04  -4.6 3.65e-03    -  1.00e+00 1.00e+00h  1\n",
      "   8  1.7320508e+00 0.00e+00 4.37e-05 -10.8 1.25e-04    -  1.00e+00 9.99e-01h  1\n",
      "   9  1.7320508e+00 3.74e-11 2.12e-08  -8.7 4.65e-08    -  1.00e+00 9.89e-01h  1\n",
      "iter    objective    inf_pr   inf_du lg(mu)  ||d||  lg(rg) alpha_du alpha_pr  ls\n",
      "  10  1.7320508e+00 0.00e+00 3.85e-11 -11.0 1.24e-10    -  9.98e-01 1.00e+00h  1\n",
      "\n",
      "Number of Iterations....: 10\n",
      "\n",
      "                                   (scaled)                 (unscaled)\n",
      "Objective...............:  -1.7320508104193220e+00    1.7320508104193220e+00\n",
      "Dual infeasibility......:   3.8545433058873939e-11    3.8545433058873939e-11\n",
      "Constraint violation....:   0.0000000000000000e+00    0.0000000000000000e+00\n",
      "Variable bound violation:   5.7179601054002660e-09    5.7179601054002660e-09\n",
      "Complementarity.........:   3.6306554133084271e-11    3.6306554133084271e-11\n",
      "Overall NLP error.......:   3.8545433058873939e-11    3.8545433058873939e-11\n",
      "\n",
      "\n",
      "Number of objective function evaluations             = 11\n",
      "Number of objective gradient evaluations             = 11\n",
      "Number of equality constraint evaluations            = 0\n",
      "Number of inequality constraint evaluations          = 11\n",
      "Number of equality constraint Jacobian evaluations   = 0\n",
      "Number of inequality constraint Jacobian evaluations = 11\n",
      "Number of Lagrangian Hessian evaluations             = 0\n",
      "Total seconds in IPOPT                               = 0.018\n",
      "\n",
      "EXIT: Optimal Solution Found.\n",
      "objective_value(model) = 1.732050810419322\n",
      "Memoized approach: function_calls = 22\n"
     ]
    }
   ],
   "source": [
    "@NLobjective(model, Max, foo_1(x[1], x[2]))\n",
    "@NLconstraint(model, foo_2(x[1], x[2]) <= 2)\n",
    "function_calls = 0\n",
    "optimize!(model)\n",
    "@show objective_value(model) \n",
    "println(\"Memoized approach: function_calls = $(function_calls)\")"
   ]
  },
  {
   "cell_type": "code",
   "execution_count": null,
   "id": "ef6cf8c1",
   "metadata": {},
   "outputs": [],
   "source": []
  },
  {
   "cell_type": "code",
   "execution_count": null,
   "id": "9cce907c",
   "metadata": {},
   "outputs": [],
   "source": []
  },
  {
   "cell_type": "code",
   "execution_count": null,
   "id": "460208b1",
   "metadata": {},
   "outputs": [],
   "source": []
  },
  {
   "cell_type": "code",
   "execution_count": null,
   "id": "61ebb1cb",
   "metadata": {},
   "outputs": [],
   "source": []
  },
  {
   "cell_type": "code",
   "execution_count": null,
   "id": "2f86e218",
   "metadata": {},
   "outputs": [],
   "source": []
  }
 ],
 "metadata": {
  "kernelspec": {
   "display_name": "Julia 1.8.5",
   "language": "julia",
   "name": "julia-1.8"
  },
  "language_info": {
   "file_extension": ".jl",
   "mimetype": "application/julia",
   "name": "julia",
   "version": "1.8.5"
  }
 },
 "nbformat": 4,
 "nbformat_minor": 5
}
